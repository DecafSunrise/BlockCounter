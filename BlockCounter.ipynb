{
 "cells": [
  {
   "cell_type": "markdown",
   "metadata": {},
   "source": [
    "     _______      ___        _______    _______    __     ___    _______    _______    __   __    __     __    __________   \n",
    "    |   __  |    |   |      |   _   |  |  _____|  |  |   /  /   |  _____|  |   _   |  |  | |  |  |   \\  |  |  |___    ___| \n",
    "    |  |__| |_   |   |      |  | |  |  | |        |  |__/  /    | |        |  | |  |  |  | |  |  |    \\ |  |      |  |     \n",
    "    |   ___   |  |   |      |  | |  |  | |        |   _   |     | |        |  | |  |  |  |_|  |  |     \\|  |      |  |     \n",
    "    |  |   |  |  |   |___   |  |_|  |  | |_____   |  |  \\  \\    | |_____   |  |_|  |  |       |  |  |\\     |      |  |    \n",
    "    |  |___|  |  |       |  |       |  |       |  |  |   \\  \\   |       |  |       |  |       |  |  | \\    |      |  |     \n",
    "    |_________|  |_______|  |_______|  |_______|  |__|    \\__\\  |_______|  |_______|  |_______|  |__|  \\___|      |__|     \n",
    "    \n",
    "A tool to rapidly build \"base 10 block\"-style representations of numbers, in order to articulate the scale of a fraction.\n",
    "\n",
    "Please note, the selecting the highlight color does not currently work. It'll default to red for now."
   ]
  },
  {
   "cell_type": "code",
   "execution_count": 1,
   "metadata": {},
   "outputs": [
    {
     "name": "stdout",
     "output_type": "stream",
     "text": [
      "Requirement already satisfied: colorama in d:\\programdata\\anaconda3\\lib\\site-packages (0.4.3)\n"
     ]
    }
   ],
   "source": [
    "## Installs Colorama, if you don't already have it\n",
    "import sys\n",
    "!{sys.executable} -m pip install colorama\n",
    "\n",
    "from colorama import Fore, Back, Style\n",
    "from ipywidgets import interact, interactive, fixed, interact_manual\n",
    "import ipywidgets as widgets"
   ]
  },
  {
   "cell_type": "code",
   "execution_count": 2,
   "metadata": {},
   "outputs": [],
   "source": [
    "def inputData():\n",
    "    InputCount = input(\"What's the number you'd like converted to blocks?\\n>> \")\n",
    "    blockEquals = input(\"What should each block represent, as an integer?\\n>> \")\n",
    "    numRows = input(\"How many columns would you like?\\n>> \")\n",
    "    colorcount = input(f\"Of the original {InputCount}, how many should be colored? (Integer only, please)\\n>> \")\n",
    "    color = input(\"What color do you want the selected boxes?\\n>> \")\n",
    "    \n",
    "    printBlocks(InputCount, blockEquals, numRows, colorcount, color)\n",
    "def printBlocks(InputCount, blockEquals, numRows, colorcount, color):\n",
    "    color = color.upper()\n",
    "    blockEquals = int(blockEquals)\n",
    "    InputCount = int(InputCount)\n",
    "    colorcount = int(colorcount)\n",
    "    blocks = int(InputCount / blockEquals)\n",
    "    coloredblocks = int(round(colorcount / blockEquals))\n",
    "    blackBlocks = int(blocks - coloredblocks)\n",
    "    numRows = int(numRows)\n",
    "    while coloredblocks > 0:\n",
    "        if coloredblocks >= numRows:\n",
    "            print(\" \".join([Fore.RED + '\\u25A0' for x in range(numRows)]))\n",
    "        else:\n",
    "            lineout = \"\"\n",
    "            lineout = lineout + ((Fore.RED + '\\u25A0 ') * (coloredblocks))\n",
    "            lineout = lineout + ((Fore.BLACK + '\\u25A0 ') * (numRows - coloredblocks))\n",
    "            print(lineout)\n",
    "        blocks -= numRows\n",
    "        coloredblocks -= numRows\n",
    "    while blocks > numRows:\n",
    "        print(\" \".join([Fore.BLACK + '\\u25A0' for x in range(numRows)]))\n",
    "        blocks -= numRows\n",
    "    print(' '.join([Fore.BLACK + '\\u25A0' for x in range(blocks)]))\n",
    "\n",
    "def interactiveBoxes(InputCount, blockEquals, numRows, colorcount, color):\n",
    "    printBlocks(InputCount, blockEquals, numRows, colorcount, color)"
   ]
  },
  {
   "cell_type": "code",
   "execution_count": 4,
   "metadata": {},
   "outputs": [
    {
     "data": {
      "application/vnd.jupyter.widget-view+json": {
       "model_id": "540315f5c89847dca57143ea9e79a864",
       "version_major": 2,
       "version_minor": 0
      },
      "text/plain": [
       "interactive(children=(Text(value='5000', description='Total #:', placeholder='Type something'), IntSlider(valu…"
      ]
     },
     "metadata": {},
     "output_type": "display_data"
    },
    {
     "data": {
      "text/plain": [
       "<function __main__.interactiveBoxes(InputCount, blockEquals, numRows, colorcount, color)>"
      ]
     },
     "execution_count": 4,
     "metadata": {},
     "output_type": "execute_result"
    }
   ],
   "source": [
    "interact(interactiveBoxes, \n",
    "         color=widgets.Dropdown(options=[\"black\", \"red\", \"green\", \"yellow\", \"blue\", \"magenta\", \"cyan\", \"white\"],\n",
    "    value='red', description='Color:', disabled=False),\n",
    "        blockEquals= widgets.IntSlider(value=50, min=0, max=500,step=1,description='Block Value:',\n",
    "    disabled=False, continuous_update=False, orientation='horizontal',readout=True,   readout_format='d'),\n",
    "        numRows = widgets.IntSlider(value=10, min=0, max=50,step=1,description='Width:',\n",
    "    disabled=False, continuous_update=False, orientation='horizontal',readout=True,   readout_format='d'),\n",
    "         InputCount = widgets.Text(value='5000',\n",
    "    placeholder='Type something', description='Total #:',disabled=False),\n",
    "        colorcount = widgets.Text(value='500',\n",
    "    placeholder='Type something', description='Highlight:',disabled=False),)"
   ]
  },
  {
   "cell_type": "code",
   "execution_count": null,
   "metadata": {},
   "outputs": [],
   "source": []
  }
 ],
 "metadata": {
  "kernelspec": {
   "display_name": "Python 3",
   "language": "python",
   "name": "python3"
  },
  "language_info": {
   "codemirror_mode": {
    "name": "ipython",
    "version": 3
   },
   "file_extension": ".py",
   "mimetype": "text/x-python",
   "name": "python",
   "nbconvert_exporter": "python",
   "pygments_lexer": "ipython3",
   "version": "3.7.6"
  }
 },
 "nbformat": 4,
 "nbformat_minor": 4
}
